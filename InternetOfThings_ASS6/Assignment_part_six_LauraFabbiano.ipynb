{
  "nbformat": 4,
  "nbformat_minor": 0,
  "metadata": {
    "colab": {
      "provenance": []
    },
    "kernelspec": {
      "name": "python3",
      "display_name": "Python 3"
    },
    "language_info": {
      "name": "python"
    }
  },
  "cells": [
    {
      "cell_type": "markdown",
      "source": [
        "#DSML investigation:\n",
        "### You are part of the Suisse Impossible Mission Force, or SIMF for short. You need to uncover a rogue agent that is trying to steal sensitive information.\n",
        "\n",
        "### Your mission, should you choose to accept it, is to find that agent before stealing any classified information. Good luck!\n",
        "\n",
        "\n",
        "(PS : it's the end ! We will finally know who is the agent )"
      ],
      "metadata": {
        "id": "9uA-W6ODQUmW"
      }
    },
    {
      "cell_type": "markdown",
      "source": [
        "-----------------------------------"
      ],
      "metadata": {
        "id": "Car9uRVIQgJq"
      }
    },
    {
      "cell_type": "markdown",
      "source": [
        "# Assignment part six\n",
        "\n",
        "You are granted a IOT device that can connect through an agents code, to suspects devices. You need to identify the devices ID used by the suspects.\n",
        "Then scan the logs and identify users who accessed external servers.\n"
      ],
      "metadata": {
        "id": "QO5dcZDtQqF6"
      }
    },
    {
      "cell_type": "markdown",
      "source": [
        "<h3> Internet of Things </h3>\n",
        "\n",
        "We will use M5stack devices and code them in Python."
      ],
      "metadata": {
        "id": "31B-tAXPK23S"
      }
    },
    {
      "cell_type": "markdown",
      "source": [
        "The assistant gave us a predefined python code and we just had to change 3 lines for each of two functions. I will not upload them here as it was asked to upload only the part 2 of the assignment."
      ],
      "metadata": {
        "id": "QU313Fh7SPyw"
      }
    },
    {
      "cell_type": "markdown",
      "source": [
        " <h2> Question 1 : Who is the rogue agent identified ? </h2>\n",
        "\n",
        " In order to do that, we had to write a little python script and link it to a M5stack device.\n",
        "\n",
        " With this script, we were able to identify the IP addresses of the three remaining suspects (previously discovered during previous assignments)\n",
        " - suspect n° 410319\n",
        " - suspect n° 628854\n",
        " - suspect n° 785994\n",
        "\n",
        "\n",
        "\n",
        " Our task was to find the outlier - the individual who wasn't in Switzerland.\n",
        "\n",
        "Thanks to the website https://www.iplocation.net/, we were able to determine the countries of origin based on the user's IP address.\n",
        "\n",
        "Among all the IP addresses we found, it turned out to be that of rogue agent number **785994**, who was not in Switzerland but, surprisingly, in Greece."
      ],
      "metadata": {
        "id": "3oZNi5TJLTsa"
      }
    },
    {
      "cell_type": "markdown",
      "source": [
        " <h2> Question 2 : Which of these is returned within the json contained in this call “https://europe-west9-simf-403016.cloudfunctions.net/SIMF” ?  </h2>"
      ],
      "metadata": {
        "id": "xwBYwYlnM_Fs"
      }
    },
    {
      "cell_type": "code",
      "source": [
        "import requests\n",
        "\n",
        "url = \"https://europe-west9-simf-403016.cloudfunctions.net/SIMF?deviceID=201158423\" # here we had to specify a deviceID, otherwise the next line would throw an error !  I used the one from the rogue agent.\n",
        "\n",
        "# here we are sending a request to the specified URL and store the response in the 'response1' variable\n",
        "response1 = requests.get(url)\n",
        "\n",
        "# just to check wich method are valid for the response variable -> we will use .text\n",
        "#print(dir(response))\n",
        "\n",
        "if response1.status_code == 200: # if the status == 200 (= OK), otherwise it means it failed\n",
        "    data1 = response1.json() #then you store the result of the json in the data1 variable\n",
        "    print(data1) #and print what was stored in the json file"
      ],
      "metadata": {
        "colab": {
          "base_uri": "https://localhost:8080/"
        },
        "id": "f0BYbw4zLTeG",
        "outputId": "7d8c2ff7-cdf0-4886-a427-9dc9c8bd2a8f"
      },
      "execution_count": 27,
      "outputs": [
        {
          "output_type": "stream",
          "name": "stdout",
          "text": [
            "{'DeviceID': 201158423, 'ConnectedIP': '104.132.161.9', 'TimeStamp': '2023-10-31 17:14:10'}\n"
          ]
        }
      ]
    },
    {
      "cell_type": "markdown",
      "source": [
        " <h2> Question 3 : Which of these is returned within the json contained in this call “https://europe-west9-simf-403016.cloudfunctions.net/SIMF_UserIDToDeviceID” ?  </h2>"
      ],
      "metadata": {
        "id": "oo5w2zlBNISw"
      }
    },
    {
      "cell_type": "code",
      "execution_count": 28,
      "metadata": {
        "colab": {
          "base_uri": "https://localhost:8080/"
        },
        "id": "PvXhnSmLK0ZB",
        "outputId": "4aa6f782-97bb-466e-90ef-5bc28431fdc9"
      },
      "outputs": [
        {
          "output_type": "stream",
          "name": "stdout",
          "text": [
            "{'userID': '785994', 'deviceID': '201158423'}\n"
          ]
        }
      ],
      "source": [
        "import requests\n",
        "\n",
        "url = \"https://europe-west9-simf-403016.cloudfunctions.net/SIMF_UserIDToDeviceID?userID=785994\" # here we had to specify a userID, otherwise the next line would throw an error ! I used the one from the rogue agent.\n",
        "\n",
        "# here we are sending a request to the specified URL and store the response in the 'response2' variable\n",
        "response2 = requests.get(url)\n",
        "\n",
        "if response2.status_code == 200: # if the status == 200 (= OK), otherwise it means it failed\n",
        "    data2 = response2.json() #then you store the result of the json in the data2 variable\n",
        "    print(data2) #and print what was stored in the json file"
      ]
    }
  ]
}