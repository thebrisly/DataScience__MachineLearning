{
  "cells": [
    {
      "cell_type": "markdown",
      "metadata": {
        "id": "xwKkOaxs91OP"
      },
      "source": [
        "<a href=\"https://colab.research.google.com/github/michalis0/DataScience_and_MachineLearning/blob/master/Assignements/Part%202/Assignment_part_two.ipynb\" target=\"_parent\"><img src=\"https://colab.research.google.com/assets/colab-badge.svg\" alt=\"Open In Colab\"/></a>"
      ]
    },
    {
      "cell_type": "markdown",
      "metadata": {
        "id": "kZu-7QbP9muh"
      },
      "source": [
        "DSML investigation:\n",
        "\n",
        "You are part of the Suisse Impossible Mission Force, or SIMF for short. You need to uncover a rogue agent that is trying to steal sensitive information.\n",
        "\n",
        "Your mission, should you choose to accept it, is to find that agent before stealing any classified information. Good luck!"
      ]
    },
    {
      "cell_type": "markdown",
      "metadata": {
        "id": "DyL7WNdV9sWV"
      },
      "source": [
        "# Assignment part two\n",
        "\n",
        "We received new intelligence about the rogue agent which lets us discover his age.\n",
        "Use the table \"social_media_SIMF_archive.csv\" to create a model that predicts the age of a person. Use this model to predict the ages of the table of suspects \"suspect_social_media_statistics.csv\".\n",
        "\n",
        "Retain only the list of suspects whose age is between 25-35.\n",
        "\n",
        "\n",
        "##Getting to know our data\n",
        "\n",
        "- userId: Unique number given to each user.\n",
        "\n",
        "- tier: Tier of the city in which the user is residing.\n",
        "\n",
        "- gender: Categorical feature representing the gender of the user. 1 represents male and 2 represents female.\n",
        "\n",
        "- following_rate: Number of accounts followed by the user(feature is normalized)\n",
        "\n",
        "- followers_avg_age: Average of age groups of all the followers of the user.\n",
        "\n",
        "- following_avg_age: Average of age groups of all the accounts followed by the user.\n",
        "\n",
        "- max_repetitive_punc: Maximum repititive punctuations found in the bio and comments of the user.\n",
        "\n",
        "- num_of_hashtags_per_action: Average nubmer of hashtags used by the user per comment.\n",
        "\n",
        "- emoji_count_per_action: Average number of emojis used by the user per comment\n",
        "\n",
        "- punctuations_per_action: Average number of punctuations used by the user per comment.\n",
        "\n",
        "- number_of_words_per_action: Average number of words used by the user per comment.\n",
        "\n",
        "- avgCompletion: Average watch time completion rate of the videos.\n",
        "\n",
        "- avgTimeSpent: Average time spent by the user on a video in seconds.\n",
        "\n",
        "- avgDuration: Average duration of the videos that the user has watched till date.\n",
        "\n",
        "- avgComments: Average number of comments per video watched.\n",
        "\n",
        "- creations: Total number of videos uploaded by the user.\n",
        "\n",
        "- content_views: Total number of videos watched.\n",
        "\n",
        "- num_of_comments: Total number of comments made by the user (normalized)\n",
        "\n",
        "- weekends_trails_watched_per_day: Number of videos watched on weekends per day.\n",
        "\n",
        "- weekdays_trails_watched_per_day: Number of videos watched on weekdays per day.\n",
        "\n",
        "- slot1_trails_watched_per_day: The day is divided into 4 slots. This feature represents the average number of videos watched in this particular time slot.\n",
        "\n",
        "- slot2_trails_watched_per_day: The day is divided into 4 slots. This feature represents the average number of videos watched in this particular time slot.\n",
        "\n",
        "- slot3_trails_watched_per_day: The day is divided into 4 slots. This feature represents the average number of videos watched in this particular time slot.\n",
        "\n",
        "- slot4_trails_watched_per_day: data\n",
        "\n",
        "- avgt2: Average number of followers of all the accounts followed by the user.\n",
        "\n",
        "- age : The age of the user\n"
      ]
    },
    {
      "cell_type": "code",
      "execution_count": 149,
      "metadata": {
        "id": "XHhI95r5-tyD"
      },
      "outputs": [],
      "source": [
        "import pandas as pd\n",
        "import numpy as np\n",
        "import matplotlib.pyplot as plt\n",
        "train_dataset = pd.read_csv(\"https://raw.githubusercontent.com/michalis0/DataScience_and_MachineLearning/master/Assignements/Part%202/data/social_media_SIMF_archive.csv\")\n",
        "suspects = pd.read_csv(\"https://raw.githubusercontent.com/michalis0/DataScience_and_MachineLearning/master/Assignements/Part%202/data/suspects_social_media.csv\")"
      ]
    },
    {
      "cell_type": "markdown",
      "metadata": {
        "id": "igq5I7pOm0SW"
      },
      "source": [
        "### Training a model\n",
        "Select the features which by convention are called X. We will also choose the target variable which we typically call y.\n",
        "\n",
        "You can use the features 'tier', 'gender', 'following_rate', 'followers_avg_age', 'following_avg_age', 'max_repetitive_punc', 'num_of_hashtags_per_action', 'emoji_count_per_action', 'punctuations_per_action', 'number_of_words_per_action', 'avgCompletion', 'avgTimeSpent', 'avgDuration', 'avgComments', 'creations', 'content_views', 'num_of_comments', 'weekends_trails_watched_per_day', 'weekdays_trails_watched_per_day', 'slot1_trails_watched_per_day', 'slot2_trails_watched_per_day', 'slot3_trails_watched_per_day', 'slot4_trails_watched_per_day', 'avgt2'"
      ]
    },
    {
      "cell_type": "code",
      "execution_count": 150,
      "metadata": {
        "id": "LV87NptOASo6",
        "colab": {
          "base_uri": "https://localhost:8080/",
          "height": 273
        },
        "outputId": "84d1d359-6e90-4a96-b706-05b4d0b377e9"
      },
      "outputs": [
        {
          "output_type": "execute_result",
          "data": {
            "text/plain": [
              "   Unnamed: 0  userId  tier  gender  following_rate  followers_avg_age  \\\n",
              "0           0  317991     2       1        0.000000           0.000000   \n",
              "1           1  241892     2       2        0.000000           0.000000   \n",
              "2           2  303376     2       1        0.160000           1.529412   \n",
              "3           3  761992     2       2        0.032000           1.000000   \n",
              "4           4  373318     2       1        0.009524           0.000000   \n",
              "\n",
              "   following_avg_age  max_repetitive_punc  num_of_hashtags_per_action  \\\n",
              "0           0.000000                    0                         0.0   \n",
              "1           0.000000                    0                         0.0   \n",
              "2           2.176471                    0                         0.0   \n",
              "3           2.500000                    0                         0.0   \n",
              "4           0.000000                    3                         0.0   \n",
              "\n",
              "   emoji_count_per_action  ...  creations  content_views  num_of_comments  \\\n",
              "0                     0.0  ...   0.000000       0.123967            0.000   \n",
              "1                     0.0  ...   0.000000       0.031746            0.000   \n",
              "2                     0.0  ...   0.008000       0.520000            0.000   \n",
              "3                     0.0  ...   0.008000       0.360000            0.008   \n",
              "4                     0.0  ...   0.047619       0.552381            0.000   \n",
              "\n",
              "   weekends_trails_watched_per_day  weekdays_trails_watched_per_day  \\\n",
              "0                         0.000000                         0.033058   \n",
              "1                         0.000000                         0.006349   \n",
              "2                         0.248000                         0.009600   \n",
              "3                         0.224000                         0.001600   \n",
              "4                         0.047619                         0.139048   \n",
              "\n",
              "   slot1_trails_watched_per_day  slot2_trails_watched_per_day  \\\n",
              "0                      0.165289                      0.000000   \n",
              "1                      0.000000                      0.000000   \n",
              "2                      0.000000                      0.048000   \n",
              "3                      0.000000                      0.008000   \n",
              "4                      0.000000                      0.304762   \n",
              "\n",
              "   slot3_trails_watched_per_day  slot4_trails_watched_per_day       avgt2  \n",
              "0                      0.000000                       0.00000    0.000000  \n",
              "1                      0.031746                       0.00000    0.000000  \n",
              "2                      0.424000                       0.07200  171.857143  \n",
              "3                      0.448000                       0.00000  343.500000  \n",
              "4                      0.361905                       0.12381  171.200000  \n",
              "\n",
              "[5 rows x 26 columns]"
            ],
            "text/html": [
              "\n",
              "  <div id=\"df-2dd2a947-fb66-4887-bcb5-64881af23ea8\" class=\"colab-df-container\">\n",
              "    <div>\n",
              "<style scoped>\n",
              "    .dataframe tbody tr th:only-of-type {\n",
              "        vertical-align: middle;\n",
              "    }\n",
              "\n",
              "    .dataframe tbody tr th {\n",
              "        vertical-align: top;\n",
              "    }\n",
              "\n",
              "    .dataframe thead th {\n",
              "        text-align: right;\n",
              "    }\n",
              "</style>\n",
              "<table border=\"1\" class=\"dataframe\">\n",
              "  <thead>\n",
              "    <tr style=\"text-align: right;\">\n",
              "      <th></th>\n",
              "      <th>Unnamed: 0</th>\n",
              "      <th>userId</th>\n",
              "      <th>tier</th>\n",
              "      <th>gender</th>\n",
              "      <th>following_rate</th>\n",
              "      <th>followers_avg_age</th>\n",
              "      <th>following_avg_age</th>\n",
              "      <th>max_repetitive_punc</th>\n",
              "      <th>num_of_hashtags_per_action</th>\n",
              "      <th>emoji_count_per_action</th>\n",
              "      <th>...</th>\n",
              "      <th>creations</th>\n",
              "      <th>content_views</th>\n",
              "      <th>num_of_comments</th>\n",
              "      <th>weekends_trails_watched_per_day</th>\n",
              "      <th>weekdays_trails_watched_per_day</th>\n",
              "      <th>slot1_trails_watched_per_day</th>\n",
              "      <th>slot2_trails_watched_per_day</th>\n",
              "      <th>slot3_trails_watched_per_day</th>\n",
              "      <th>slot4_trails_watched_per_day</th>\n",
              "      <th>avgt2</th>\n",
              "    </tr>\n",
              "  </thead>\n",
              "  <tbody>\n",
              "    <tr>\n",
              "      <th>0</th>\n",
              "      <td>0</td>\n",
              "      <td>317991</td>\n",
              "      <td>2</td>\n",
              "      <td>1</td>\n",
              "      <td>0.000000</td>\n",
              "      <td>0.000000</td>\n",
              "      <td>0.000000</td>\n",
              "      <td>0</td>\n",
              "      <td>0.0</td>\n",
              "      <td>0.0</td>\n",
              "      <td>...</td>\n",
              "      <td>0.000000</td>\n",
              "      <td>0.123967</td>\n",
              "      <td>0.000</td>\n",
              "      <td>0.000000</td>\n",
              "      <td>0.033058</td>\n",
              "      <td>0.165289</td>\n",
              "      <td>0.000000</td>\n",
              "      <td>0.000000</td>\n",
              "      <td>0.00000</td>\n",
              "      <td>0.000000</td>\n",
              "    </tr>\n",
              "    <tr>\n",
              "      <th>1</th>\n",
              "      <td>1</td>\n",
              "      <td>241892</td>\n",
              "      <td>2</td>\n",
              "      <td>2</td>\n",
              "      <td>0.000000</td>\n",
              "      <td>0.000000</td>\n",
              "      <td>0.000000</td>\n",
              "      <td>0</td>\n",
              "      <td>0.0</td>\n",
              "      <td>0.0</td>\n",
              "      <td>...</td>\n",
              "      <td>0.000000</td>\n",
              "      <td>0.031746</td>\n",
              "      <td>0.000</td>\n",
              "      <td>0.000000</td>\n",
              "      <td>0.006349</td>\n",
              "      <td>0.000000</td>\n",
              "      <td>0.000000</td>\n",
              "      <td>0.031746</td>\n",
              "      <td>0.00000</td>\n",
              "      <td>0.000000</td>\n",
              "    </tr>\n",
              "    <tr>\n",
              "      <th>2</th>\n",
              "      <td>2</td>\n",
              "      <td>303376</td>\n",
              "      <td>2</td>\n",
              "      <td>1</td>\n",
              "      <td>0.160000</td>\n",
              "      <td>1.529412</td>\n",
              "      <td>2.176471</td>\n",
              "      <td>0</td>\n",
              "      <td>0.0</td>\n",
              "      <td>0.0</td>\n",
              "      <td>...</td>\n",
              "      <td>0.008000</td>\n",
              "      <td>0.520000</td>\n",
              "      <td>0.000</td>\n",
              "      <td>0.248000</td>\n",
              "      <td>0.009600</td>\n",
              "      <td>0.000000</td>\n",
              "      <td>0.048000</td>\n",
              "      <td>0.424000</td>\n",
              "      <td>0.07200</td>\n",
              "      <td>171.857143</td>\n",
              "    </tr>\n",
              "    <tr>\n",
              "      <th>3</th>\n",
              "      <td>3</td>\n",
              "      <td>761992</td>\n",
              "      <td>2</td>\n",
              "      <td>2</td>\n",
              "      <td>0.032000</td>\n",
              "      <td>1.000000</td>\n",
              "      <td>2.500000</td>\n",
              "      <td>0</td>\n",
              "      <td>0.0</td>\n",
              "      <td>0.0</td>\n",
              "      <td>...</td>\n",
              "      <td>0.008000</td>\n",
              "      <td>0.360000</td>\n",
              "      <td>0.008</td>\n",
              "      <td>0.224000</td>\n",
              "      <td>0.001600</td>\n",
              "      <td>0.000000</td>\n",
              "      <td>0.008000</td>\n",
              "      <td>0.448000</td>\n",
              "      <td>0.00000</td>\n",
              "      <td>343.500000</td>\n",
              "    </tr>\n",
              "    <tr>\n",
              "      <th>4</th>\n",
              "      <td>4</td>\n",
              "      <td>373318</td>\n",
              "      <td>2</td>\n",
              "      <td>1</td>\n",
              "      <td>0.009524</td>\n",
              "      <td>0.000000</td>\n",
              "      <td>0.000000</td>\n",
              "      <td>3</td>\n",
              "      <td>0.0</td>\n",
              "      <td>0.0</td>\n",
              "      <td>...</td>\n",
              "      <td>0.047619</td>\n",
              "      <td>0.552381</td>\n",
              "      <td>0.000</td>\n",
              "      <td>0.047619</td>\n",
              "      <td>0.139048</td>\n",
              "      <td>0.000000</td>\n",
              "      <td>0.304762</td>\n",
              "      <td>0.361905</td>\n",
              "      <td>0.12381</td>\n",
              "      <td>171.200000</td>\n",
              "    </tr>\n",
              "  </tbody>\n",
              "</table>\n",
              "<p>5 rows × 26 columns</p>\n",
              "</div>\n",
              "    <div class=\"colab-df-buttons\">\n",
              "\n",
              "  <div class=\"colab-df-container\">\n",
              "    <button class=\"colab-df-convert\" onclick=\"convertToInteractive('df-2dd2a947-fb66-4887-bcb5-64881af23ea8')\"\n",
              "            title=\"Convert this dataframe to an interactive table.\"\n",
              "            style=\"display:none;\">\n",
              "\n",
              "  <svg xmlns=\"http://www.w3.org/2000/svg\" height=\"24px\" viewBox=\"0 -960 960 960\">\n",
              "    <path d=\"M120-120v-720h720v720H120Zm60-500h600v-160H180v160Zm220 220h160v-160H400v160Zm0 220h160v-160H400v160ZM180-400h160v-160H180v160Zm440 0h160v-160H620v160ZM180-180h160v-160H180v160Zm440 0h160v-160H620v160Z\"/>\n",
              "  </svg>\n",
              "    </button>\n",
              "\n",
              "  <style>\n",
              "    .colab-df-container {\n",
              "      display:flex;\n",
              "      gap: 12px;\n",
              "    }\n",
              "\n",
              "    .colab-df-convert {\n",
              "      background-color: #E8F0FE;\n",
              "      border: none;\n",
              "      border-radius: 50%;\n",
              "      cursor: pointer;\n",
              "      display: none;\n",
              "      fill: #1967D2;\n",
              "      height: 32px;\n",
              "      padding: 0 0 0 0;\n",
              "      width: 32px;\n",
              "    }\n",
              "\n",
              "    .colab-df-convert:hover {\n",
              "      background-color: #E2EBFA;\n",
              "      box-shadow: 0px 1px 2px rgba(60, 64, 67, 0.3), 0px 1px 3px 1px rgba(60, 64, 67, 0.15);\n",
              "      fill: #174EA6;\n",
              "    }\n",
              "\n",
              "    .colab-df-buttons div {\n",
              "      margin-bottom: 4px;\n",
              "    }\n",
              "\n",
              "    [theme=dark] .colab-df-convert {\n",
              "      background-color: #3B4455;\n",
              "      fill: #D2E3FC;\n",
              "    }\n",
              "\n",
              "    [theme=dark] .colab-df-convert:hover {\n",
              "      background-color: #434B5C;\n",
              "      box-shadow: 0px 1px 3px 1px rgba(0, 0, 0, 0.15);\n",
              "      filter: drop-shadow(0px 1px 2px rgba(0, 0, 0, 0.3));\n",
              "      fill: #FFFFFF;\n",
              "    }\n",
              "  </style>\n",
              "\n",
              "    <script>\n",
              "      const buttonEl =\n",
              "        document.querySelector('#df-2dd2a947-fb66-4887-bcb5-64881af23ea8 button.colab-df-convert');\n",
              "      buttonEl.style.display =\n",
              "        google.colab.kernel.accessAllowed ? 'block' : 'none';\n",
              "\n",
              "      async function convertToInteractive(key) {\n",
              "        const element = document.querySelector('#df-2dd2a947-fb66-4887-bcb5-64881af23ea8');\n",
              "        const dataTable =\n",
              "          await google.colab.kernel.invokeFunction('convertToInteractive',\n",
              "                                                    [key], {});\n",
              "        if (!dataTable) return;\n",
              "\n",
              "        const docLinkHtml = 'Like what you see? Visit the ' +\n",
              "          '<a target=\"_blank\" href=https://colab.research.google.com/notebooks/data_table.ipynb>data table notebook</a>'\n",
              "          + ' to learn more about interactive tables.';\n",
              "        element.innerHTML = '';\n",
              "        dataTable['output_type'] = 'display_data';\n",
              "        await google.colab.output.renderOutput(dataTable, element);\n",
              "        const docLink = document.createElement('div');\n",
              "        docLink.innerHTML = docLinkHtml;\n",
              "        element.appendChild(docLink);\n",
              "      }\n",
              "    </script>\n",
              "  </div>\n",
              "\n",
              "\n",
              "<div id=\"df-910eceee-0992-420c-9ffc-5c78957e7861\">\n",
              "  <button class=\"colab-df-quickchart\" onclick=\"quickchart('df-910eceee-0992-420c-9ffc-5c78957e7861')\"\n",
              "            title=\"Suggest charts.\"\n",
              "            style=\"display:none;\">\n",
              "\n",
              "<svg xmlns=\"http://www.w3.org/2000/svg\" height=\"24px\"viewBox=\"0 0 24 24\"\n",
              "     width=\"24px\">\n",
              "    <g>\n",
              "        <path d=\"M19 3H5c-1.1 0-2 .9-2 2v14c0 1.1.9 2 2 2h14c1.1 0 2-.9 2-2V5c0-1.1-.9-2-2-2zM9 17H7v-7h2v7zm4 0h-2V7h2v10zm4 0h-2v-4h2v4z\"/>\n",
              "    </g>\n",
              "</svg>\n",
              "  </button>\n",
              "\n",
              "<style>\n",
              "  .colab-df-quickchart {\n",
              "      --bg-color: #E8F0FE;\n",
              "      --fill-color: #1967D2;\n",
              "      --hover-bg-color: #E2EBFA;\n",
              "      --hover-fill-color: #174EA6;\n",
              "      --disabled-fill-color: #AAA;\n",
              "      --disabled-bg-color: #DDD;\n",
              "  }\n",
              "\n",
              "  [theme=dark] .colab-df-quickchart {\n",
              "      --bg-color: #3B4455;\n",
              "      --fill-color: #D2E3FC;\n",
              "      --hover-bg-color: #434B5C;\n",
              "      --hover-fill-color: #FFFFFF;\n",
              "      --disabled-bg-color: #3B4455;\n",
              "      --disabled-fill-color: #666;\n",
              "  }\n",
              "\n",
              "  .colab-df-quickchart {\n",
              "    background-color: var(--bg-color);\n",
              "    border: none;\n",
              "    border-radius: 50%;\n",
              "    cursor: pointer;\n",
              "    display: none;\n",
              "    fill: var(--fill-color);\n",
              "    height: 32px;\n",
              "    padding: 0;\n",
              "    width: 32px;\n",
              "  }\n",
              "\n",
              "  .colab-df-quickchart:hover {\n",
              "    background-color: var(--hover-bg-color);\n",
              "    box-shadow: 0 1px 2px rgba(60, 64, 67, 0.3), 0 1px 3px 1px rgba(60, 64, 67, 0.15);\n",
              "    fill: var(--button-hover-fill-color);\n",
              "  }\n",
              "\n",
              "  .colab-df-quickchart-complete:disabled,\n",
              "  .colab-df-quickchart-complete:disabled:hover {\n",
              "    background-color: var(--disabled-bg-color);\n",
              "    fill: var(--disabled-fill-color);\n",
              "    box-shadow: none;\n",
              "  }\n",
              "\n",
              "  .colab-df-spinner {\n",
              "    border: 2px solid var(--fill-color);\n",
              "    border-color: transparent;\n",
              "    border-bottom-color: var(--fill-color);\n",
              "    animation:\n",
              "      spin 1s steps(1) infinite;\n",
              "  }\n",
              "\n",
              "  @keyframes spin {\n",
              "    0% {\n",
              "      border-color: transparent;\n",
              "      border-bottom-color: var(--fill-color);\n",
              "      border-left-color: var(--fill-color);\n",
              "    }\n",
              "    20% {\n",
              "      border-color: transparent;\n",
              "      border-left-color: var(--fill-color);\n",
              "      border-top-color: var(--fill-color);\n",
              "    }\n",
              "    30% {\n",
              "      border-color: transparent;\n",
              "      border-left-color: var(--fill-color);\n",
              "      border-top-color: var(--fill-color);\n",
              "      border-right-color: var(--fill-color);\n",
              "    }\n",
              "    40% {\n",
              "      border-color: transparent;\n",
              "      border-right-color: var(--fill-color);\n",
              "      border-top-color: var(--fill-color);\n",
              "    }\n",
              "    60% {\n",
              "      border-color: transparent;\n",
              "      border-right-color: var(--fill-color);\n",
              "    }\n",
              "    80% {\n",
              "      border-color: transparent;\n",
              "      border-right-color: var(--fill-color);\n",
              "      border-bottom-color: var(--fill-color);\n",
              "    }\n",
              "    90% {\n",
              "      border-color: transparent;\n",
              "      border-bottom-color: var(--fill-color);\n",
              "    }\n",
              "  }\n",
              "</style>\n",
              "\n",
              "  <script>\n",
              "    async function quickchart(key) {\n",
              "      const quickchartButtonEl =\n",
              "        document.querySelector('#' + key + ' button');\n",
              "      quickchartButtonEl.disabled = true;  // To prevent multiple clicks.\n",
              "      quickchartButtonEl.classList.add('colab-df-spinner');\n",
              "      try {\n",
              "        const charts = await google.colab.kernel.invokeFunction(\n",
              "            'suggestCharts', [key], {});\n",
              "      } catch (error) {\n",
              "        console.error('Error during call to suggestCharts:', error);\n",
              "      }\n",
              "      quickchartButtonEl.classList.remove('colab-df-spinner');\n",
              "      quickchartButtonEl.classList.add('colab-df-quickchart-complete');\n",
              "    }\n",
              "    (() => {\n",
              "      let quickchartButtonEl =\n",
              "        document.querySelector('#df-910eceee-0992-420c-9ffc-5c78957e7861 button');\n",
              "      quickchartButtonEl.style.display =\n",
              "        google.colab.kernel.accessAllowed ? 'block' : 'none';\n",
              "    })();\n",
              "  </script>\n",
              "</div>\n",
              "    </div>\n",
              "  </div>\n"
            ]
          },
          "metadata": {},
          "execution_count": 150
        }
      ],
      "source": [
        "feature_names = ['tier', 'gender', 'following_rate', 'followers_avg_age', 'following_avg_age', 'max_repetitive_punc', 'num_of_hashtags_per_action', 'emoji_count_per_action', 'punctuations_per_action', 'number_of_words_per_action', 'avgCompletion', 'avgTimeSpent', 'avgDuration', 'avgComments', 'creations', 'content_views', 'num_of_comments', 'weekends_trails_watched_per_day', 'weekdays_trails_watched_per_day', 'slot1_trails_watched_per_day', 'slot2_trails_watched_per_day', 'slot3_trails_watched_per_day', 'slot4_trails_watched_per_day', 'avgt2']\n",
        "target = ['age']\n",
        "\n",
        "X = train_dataset[feature_names]\n",
        "y = train_dataset[target]\n",
        "\n",
        "#just to check what the dataset looks like :\n",
        "train_dataset.head()\n",
        "suspects.head()"
      ]
    },
    {
      "cell_type": "markdown",
      "metadata": {
        "id": "ga14a0xrnrw3"
      },
      "source": [
        "Now, do the test-trainsplit, using as train 80% of the data and random state 42"
      ]
    },
    {
      "cell_type": "code",
      "execution_count": 151,
      "metadata": {
        "id": "NTmLyknynsHL",
        "colab": {
          "base_uri": "https://localhost:8080/"
        },
        "outputId": "6b74a94d-36c7-4785-d8b3-e57a4024b104"
      },
      "outputs": [
        {
          "output_type": "stream",
          "name": "stdout",
          "text": [
            "(486049, 28)\n",
            "388839\n",
            "97210\n"
          ]
        }
      ],
      "source": [
        "from sklearn.model_selection import train_test_split\n",
        "\n",
        "X_train, X_test, y_train, y_test = train_test_split(X, y, test_size=0.2, random_state=42)\n",
        "\n",
        "#check if the len of the training is 80% of train_dataset (X) and if the test if 20%\n",
        "print(train_dataset.shape)\n",
        "print(len(X_train)) #(it is !)\n",
        "print(len(X_test)) # also correct\n"
      ]
    },
    {
      "cell_type": "markdown",
      "metadata": {
        "id": "VkU6RDHx2w8P"
      },
      "source": [
        "#Here we could add one hot encoding, what do you think ?"
      ]
    },
    {
      "cell_type": "markdown",
      "metadata": {
        "id": "d4iM8tnqoEG1"
      },
      "source": [
        "##Linear regression\n",
        "Now, create the linear model. Train it with the train set and use the model to make predictions on the test set. Which accuracy do you achieve on the test set?"
      ]
    },
    {
      "cell_type": "code",
      "execution_count": 152,
      "metadata": {
        "id": "LH22xpzvoGIL",
        "colab": {
          "base_uri": "https://localhost:8080/",
          "height": 74
        },
        "outputId": "eeed293b-0773-4b4b-de3b-7100edb7228b"
      },
      "outputs": [
        {
          "output_type": "execute_result",
          "data": {
            "text/plain": [
              "LinearRegression()"
            ],
            "text/html": [
              "<style>#sk-container-id-10 {color: black;background-color: white;}#sk-container-id-10 pre{padding: 0;}#sk-container-id-10 div.sk-toggleable {background-color: white;}#sk-container-id-10 label.sk-toggleable__label {cursor: pointer;display: block;width: 100%;margin-bottom: 0;padding: 0.3em;box-sizing: border-box;text-align: center;}#sk-container-id-10 label.sk-toggleable__label-arrow:before {content: \"▸\";float: left;margin-right: 0.25em;color: #696969;}#sk-container-id-10 label.sk-toggleable__label-arrow:hover:before {color: black;}#sk-container-id-10 div.sk-estimator:hover label.sk-toggleable__label-arrow:before {color: black;}#sk-container-id-10 div.sk-toggleable__content {max-height: 0;max-width: 0;overflow: hidden;text-align: left;background-color: #f0f8ff;}#sk-container-id-10 div.sk-toggleable__content pre {margin: 0.2em;color: black;border-radius: 0.25em;background-color: #f0f8ff;}#sk-container-id-10 input.sk-toggleable__control:checked~div.sk-toggleable__content {max-height: 200px;max-width: 100%;overflow: auto;}#sk-container-id-10 input.sk-toggleable__control:checked~label.sk-toggleable__label-arrow:before {content: \"▾\";}#sk-container-id-10 div.sk-estimator input.sk-toggleable__control:checked~label.sk-toggleable__label {background-color: #d4ebff;}#sk-container-id-10 div.sk-label input.sk-toggleable__control:checked~label.sk-toggleable__label {background-color: #d4ebff;}#sk-container-id-10 input.sk-hidden--visually {border: 0;clip: rect(1px 1px 1px 1px);clip: rect(1px, 1px, 1px, 1px);height: 1px;margin: -1px;overflow: hidden;padding: 0;position: absolute;width: 1px;}#sk-container-id-10 div.sk-estimator {font-family: monospace;background-color: #f0f8ff;border: 1px dotted black;border-radius: 0.25em;box-sizing: border-box;margin-bottom: 0.5em;}#sk-container-id-10 div.sk-estimator:hover {background-color: #d4ebff;}#sk-container-id-10 div.sk-parallel-item::after {content: \"\";width: 100%;border-bottom: 1px solid gray;flex-grow: 1;}#sk-container-id-10 div.sk-label:hover label.sk-toggleable__label {background-color: #d4ebff;}#sk-container-id-10 div.sk-serial::before {content: \"\";position: absolute;border-left: 1px solid gray;box-sizing: border-box;top: 0;bottom: 0;left: 50%;z-index: 0;}#sk-container-id-10 div.sk-serial {display: flex;flex-direction: column;align-items: center;background-color: white;padding-right: 0.2em;padding-left: 0.2em;position: relative;}#sk-container-id-10 div.sk-item {position: relative;z-index: 1;}#sk-container-id-10 div.sk-parallel {display: flex;align-items: stretch;justify-content: center;background-color: white;position: relative;}#sk-container-id-10 div.sk-item::before, #sk-container-id-10 div.sk-parallel-item::before {content: \"\";position: absolute;border-left: 1px solid gray;box-sizing: border-box;top: 0;bottom: 0;left: 50%;z-index: -1;}#sk-container-id-10 div.sk-parallel-item {display: flex;flex-direction: column;z-index: 1;position: relative;background-color: white;}#sk-container-id-10 div.sk-parallel-item:first-child::after {align-self: flex-end;width: 50%;}#sk-container-id-10 div.sk-parallel-item:last-child::after {align-self: flex-start;width: 50%;}#sk-container-id-10 div.sk-parallel-item:only-child::after {width: 0;}#sk-container-id-10 div.sk-dashed-wrapped {border: 1px dashed gray;margin: 0 0.4em 0.5em 0.4em;box-sizing: border-box;padding-bottom: 0.4em;background-color: white;}#sk-container-id-10 div.sk-label label {font-family: monospace;font-weight: bold;display: inline-block;line-height: 1.2em;}#sk-container-id-10 div.sk-label-container {text-align: center;}#sk-container-id-10 div.sk-container {/* jupyter's `normalize.less` sets `[hidden] { display: none; }` but bootstrap.min.css set `[hidden] { display: none !important; }` so we also need the `!important` here to be able to override the default hidden behavior on the sphinx rendered scikit-learn.org. See: https://github.com/scikit-learn/scikit-learn/issues/21755 */display: inline-block !important;position: relative;}#sk-container-id-10 div.sk-text-repr-fallback {display: none;}</style><div id=\"sk-container-id-10\" class=\"sk-top-container\"><div class=\"sk-text-repr-fallback\"><pre>LinearRegression()</pre><b>In a Jupyter environment, please rerun this cell to show the HTML representation or trust the notebook. <br />On GitHub, the HTML representation is unable to render, please try loading this page with nbviewer.org.</b></div><div class=\"sk-container\" hidden><div class=\"sk-item\"><div class=\"sk-estimator sk-toggleable\"><input class=\"sk-toggleable__control sk-hidden--visually\" id=\"sk-estimator-id-10\" type=\"checkbox\" checked><label for=\"sk-estimator-id-10\" class=\"sk-toggleable__label sk-toggleable__label-arrow\">LinearRegression</label><div class=\"sk-toggleable__content\"><pre>LinearRegression()</pre></div></div></div></div></div>"
            ]
          },
          "metadata": {},
          "execution_count": 152
        }
      ],
      "source": [
        "# do the right imports\n",
        "from sklearn.linear_model import LinearRegression\n",
        "from sklearn.metrics import mean_absolute_error, r2_score\n",
        "\n",
        "# create the model\n",
        "model = LinearRegression()\n",
        "\n",
        "# Fit the model\n",
        "model.fit(X_train, y_train)"
      ]
    },
    {
      "cell_type": "markdown",
      "metadata": {
        "id": "4aqtJfHZoWN7"
      },
      "source": [
        "and we do the predictions on the test set:"
      ]
    },
    {
      "cell_type": "code",
      "execution_count": 153,
      "metadata": {
        "id": "6dDFgWMWoVd3",
        "colab": {
          "base_uri": "https://localhost:8080/"
        },
        "outputId": "1803d2d8-a45b-4a42-a319-3578681dde61"
      },
      "outputs": [
        {
          "output_type": "stream",
          "name": "stdout",
          "text": [
            "              age\n",
            "160621  55.564508\n",
            "372594  41.578326\n",
            "138298  40.978025\n",
            "337770  39.521144\n",
            "126574  41.923897\n",
            "...           ...\n",
            "38236   42.917965\n",
            "352591  62.551689\n",
            "152102  57.953920\n",
            "349292  50.399111\n",
            "379916  43.623748\n",
            "\n",
            "[97210 rows x 1 columns]\n"
          ]
        },
        {
          "output_type": "execute_result",
          "data": {
            "text/plain": [
              "0.6631661835950295"
            ]
          },
          "metadata": {},
          "execution_count": 153
        }
      ],
      "source": [
        "#Your code here\n",
        "#we want to predct on the test set\n",
        "predicted = model.predict(X_test)\n",
        "print(y_test)\n",
        "\n",
        "#if i want to check the accuracy of the values\n",
        "model.score(X_test, y_test) # result is 66% so not that good but not that bad tho"
      ]
    },
    {
      "cell_type": "markdown",
      "metadata": {
        "id": "EwY8bTivocZy"
      },
      "source": [
        "What are the model's $MAE$ and $R^2$ ?"
      ]
    },
    {
      "cell_type": "code",
      "execution_count": 154,
      "metadata": {
        "id": "pXqBOWBFodLz",
        "colab": {
          "base_uri": "https://localhost:8080/"
        },
        "outputId": "a0da454a-fc5d-474d-d9aa-38af068481e7"
      },
      "outputs": [
        {
          "output_type": "stream",
          "name": "stdout",
          "text": [
            "MAE : 5.3318918850397985\n",
            "R^2 : 0.6631661835950295\n"
          ]
        }
      ],
      "source": [
        "#mae needs to be small\n",
        "#https://www.sciencedirect.com/topics/engineering/mean-absolute-error\n",
        "mae = mean_absolute_error(y_test, predicted)\n",
        "print(\"MAE :\", mae)\n",
        "\n",
        "#the more r2 is next to 1, the more accurate my model is\n",
        "r2 = r2_score(y_test, predicted)\n",
        "print(\"R^2 :\", r2)"
      ]
    },
    {
      "cell_type": "markdown",
      "metadata": {
        "id": "5V2TxysooxZ1"
      },
      "source": [
        "## Retraining on the full dataset\n",
        "\n",
        "Before predicting the age of the suspects, retrain the model on the full training dataset to ensure the greater results.\n",
        "\n",
        "You can reuse the same features as before, but make sure those are also available on the suspects dataset."
      ]
    },
    {
      "cell_type": "code",
      "execution_count": 155,
      "metadata": {
        "id": "Xk56_79h4aEW"
      },
      "outputs": [],
      "source": [
        "suspects_features = suspects[feature_names]"
      ]
    },
    {
      "cell_type": "code",
      "execution_count": 156,
      "metadata": {
        "id": "pmhdhMldqEFU"
      },
      "outputs": [],
      "source": [
        "# create the new model\n",
        "# Fit the new model\n",
        "new_model = model.fit(X, y)\n"
      ]
    },
    {
      "cell_type": "code",
      "execution_count": 157,
      "metadata": {
        "id": "WH1c8fHLqnt1"
      },
      "outputs": [],
      "source": [
        "# Make the predictions\n",
        "suspects['predicted_age'] = new_model.predict(suspects_features)"
      ]
    },
    {
      "cell_type": "markdown",
      "metadata": {
        "id": "1hdejQOyvpnh"
      },
      "source": [
        "## Which suspects remain after identifying users between 25 and 35 years old ?"
      ]
    },
    {
      "cell_type": "code",
      "execution_count": 158,
      "metadata": {
        "id": "tWOtRrIrv37W",
        "colab": {
          "base_uri": "https://localhost:8080/"
        },
        "outputId": "49e96f0f-5226-4b91-de9e-2af8c1c78163"
      },
      "outputs": [
        {
          "output_type": "stream",
          "name": "stdout",
          "text": [
            "75     33.397674\n",
            "77     33.397674\n",
            "78     33.397674\n",
            "79     33.397674\n",
            "80     33.397674\n",
            "81     33.397674\n",
            "82     33.397674\n",
            "83     33.397674\n",
            "84     33.397674\n",
            "85     33.397674\n",
            "86     33.397674\n",
            "87     33.397674\n",
            "88     33.397674\n",
            "89     33.397674\n",
            "90     33.397674\n",
            "91     33.397674\n",
            "114    34.413398\n",
            "187    34.931844\n",
            "431    34.747416\n",
            "515    34.680294\n",
            "601    34.455032\n",
            "683    33.737001\n",
            "Name: predicted_age, dtype: float64\n",
            "(22, 27)\n"
          ]
        }
      ],
      "source": [
        "filtered_suspects = suspects[(suspects['predicted_age'] >= 25) & (suspects['predicted_age'] <= 35)]\n",
        "print(filtered_suspects['predicted_age'])\n",
        "print(filtered_suspects.shape)"
      ]
    }
  ],
  "metadata": {
    "colab": {
      "provenance": []
    },
    "kernelspec": {
      "display_name": "Python 3",
      "name": "python3"
    },
    "language_info": {
      "codemirror_mode": {
        "name": "ipython",
        "version": 3
      },
      "file_extension": ".py",
      "mimetype": "text/x-python",
      "name": "python",
      "nbconvert_exporter": "python",
      "pygments_lexer": "ipython3",
      "version": "3.9.6"
    }
  },
  "nbformat": 4,
  "nbformat_minor": 0
}